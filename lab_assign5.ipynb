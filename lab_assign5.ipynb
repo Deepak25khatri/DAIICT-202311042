{
 "cells": [
  {
   "cell_type": "markdown",
   "metadata": {},
   "source": [
    "# Programming Lab\n",
    "# Assignment 5"
   ]
  },
  {
   "cell_type": "markdown",
   "metadata": {},
   "source": [
    "## Deepak Khatri-202311042\n",
    "## nov 8"
   ]
  },
  {
   "cell_type": "markdown",
   "metadata": {},
   "source": [
    "## Que-1: Create a class named ‘Animal’ which includes methods like eat() and sleep(). Create a child class of Animal named ‘Bird’ and override the parent class methods. Add a new method named fly(). Create an instance of the Animal class and invoke the eat and sleep methods using this object. Create an instance of Birds class and invoke the eat, sleep, and fly methods using this object."
   ]
  },
  {
   "cell_type": "code",
   "execution_count": null,
   "metadata": {},
   "outputs": [],
   "source": [
    "class Animal:\n",
    "    def eat (self):\n",
    "        print(\"Animal is eating\")\n",
    "\n",
    "    def sleep (self):\n",
    "        print(\"Animal is sleeping\")\n",
    "\n",
    "class Bird(Animal):\n",
    "    def fly (self):\n",
    "        print(\"Bird is flying\")\n",
    "\n",
    "animal_instance = Animal()\n",
    "animal_instance.eat()\n",
    "animal_instance.sleep()\n",
    "\n",
    "\n",
    "bird_instance = Bird()\n",
    "bird_instance.eat()\n",
    "bird_instance.sleep()\n",
    "bird_instance.fly()\n",
    "\n",
    "\n",
    "\n"
   ]
  }
 ],
 "metadata": {
  "language_info": {
   "name": "python"
  }
 },
 "nbformat": 4,
 "nbformat_minor": 2
}
