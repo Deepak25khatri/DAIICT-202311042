{
 "cells": [
  {
   "cell_type": "markdown",
   "metadata": {},
   "source": [
    "# Programming Lab\n",
    "# Assignment 3"
   ]
  },
  {
   "cell_type": "markdown",
   "metadata": {},
   "source": [
    "## Deepak Khatri-202311042\n",
    "## oct 4"
   ]
  },
  {
   "cell_type": "markdown",
   "metadata": {},
   "source": [
    "## Que-1: Implement a custom exception named \"CustomOutOfRangeError.\" Write a Python program that asks the user to enter an integer within a specified range (e.g., 10 to 50). If the input is outside this range, raise the \"CustomOutOfRangeError\" with a meaningful error message. Handle this exception and ask the user for input again until a valid input is provided."
   ]
  },
  {
   "cell_type": "code",
   "execution_count": 2,
   "metadata": {},
   "outputs": [
    {
     "name": "stdout",
     "output_type": "stream",
     "text": [
      "Input is out of range\n",
      "Input is out of range\n",
      "36\n",
      "you entered valid num None\n"
     ]
    }
   ],
   "source": [
    "class CustomOutOfRange(Exception):\n",
    "    def __init__(self, message = \"Input is out of range\"):\n",
    "        self.message = message\n",
    "        super().__init__(self.message)\n",
    "def get_valid_num():\n",
    "    try:\n",
    "        num = int(input(\"Enter the num between 10 to 50 range: \"))\n",
    "        if 10<=num<=50:\n",
    "            print(num)\n",
    "        else:\n",
    "            raise CustomOutOfRange()\n",
    "    except CustomOutOfRange as e:\n",
    "        print(e)\n",
    "        return get_valid_num()\n",
    "    except ValueError:\n",
    "        print(\"Invalid input, please enter it again\")\n",
    "        return get_valid_num()\n",
    "    \n",
    "try:\n",
    "    valid_input = get_valid_num()\n",
    "    print(\"you entered valid num\",valid_input)\n",
    "except KeyboardInterrupt:\n",
    "    print(\"\\n programe terminated\")\n"
   ]
  },
  {
   "cell_type": "markdown",
   "metadata": {},
   "source": [
    "## Que-2: Write a Python program that reads data from a CSV file. Implement exception handling to manage potential errors such as file not found, invalid data format, or missing columns. Create a custom exception \"CSVDataError\" to handle issues related to data format. Display appropriate error messages for different exceptions."
   ]
  },
  {
   "cell_type": "code",
   "execution_count": null,
   "metadata": {},
   "outputs": [],
   "source": []
  },
  {
   "cell_type": "markdown",
   "metadata": {},
   "source": [
    "## Que-3: Create a Python module that defines a function to calculate the nth Fibonacci number. Import this module into another script and use the function to calculate the Fibonacci sequence for the first 15 numbers. Display the results."
   ]
  },
  {
   "cell_type": "code",
   "execution_count": 1,
   "metadata": {},
   "outputs": [
    {
     "name": "stdout",
     "output_type": "stream",
     "text": [
      "011235813\n",
      "None\n"
     ]
    }
   ],
   "source": [
    "import fibo\n",
    "print(fibo.fib(15))"
   ]
  },
  {
   "cell_type": "markdown",
   "metadata": {},
   "source": [
    "## Que-4: Develop a Python module that provides functionalities for matrix operations, including addition, subtraction, and multiplication using NumPy. Use this module to perform matrix multiplication on two randomly generated matrices."
   ]
  },
  {
   "cell_type": "code",
   "execution_count": 9,
   "metadata": {},
   "outputs": [
    {
     "name": "stdout",
     "output_type": "stream",
     "text": [
      "addition of matrix\n",
      " [[16 13  6  8]\n",
      " [ 7 10  9 16]\n",
      " [ 4  7  4 13]\n",
      " [ 2  7  9  7]]\n",
      "subtraction of matrix\n",
      " [[ 2  1  0 -6]\n",
      " [-3  6  1 -2]\n",
      " [ 2 -1 -2  1]\n",
      " [ 0  1  3  1]]\n",
      "multipliation of matrix\n",
      " [[102  83  67 147]\n",
      " [ 66  69  74 137]\n",
      " [ 44  49  45  75]\n",
      " [ 37  50  49  91]]\n"
     ]
    }
   ],
   "source": [
    "##\n",
    "import numpy as np\n",
    "import matrix\n",
    "matrix_a = np.random.randint(1, 10, size=(4, 4))\n",
    "matrix_b = np.random.randint(1, 10, size=(4, 4))\n",
    "print(\"addition of matrix\\n\",matrix.matrix_add(matrix_a,matrix_b))\n",
    "print(\"subtraction of matrix\\n\",matrix.matrix_subtract(matrix_a,matrix_b))\n",
    "print(\"multipliation of matrix\\n\",matrix.matrix_mul(matrix_a,matrix_b))\n"
   ]
  },
  {
   "attachments": {},
   "cell_type": "markdown",
   "metadata": {},
   "source": [
    "## Que-5: Write a Python program that generates a 10x10 numpy array with random integers between 1 and 100. Find and display the indices of the top 5 maximum values in the array."
   ]
  },
  {
   "cell_type": "code",
   "execution_count": 11,
   "metadata": {},
   "outputs": [
    {
     "data": {
      "text/plain": [
       "array([[94, 69, 14,  6, 92, 24, 70, 97, 82, 63],\n",
       "       [47, 79, 47, 66, 18, 41, 95, 61, 61, 11],\n",
       "       [36,  8, 23, 62, 76, 64, 28, 40, 61, 72],\n",
       "       [82, 87, 44,  5, 22, 10, 38, 52, 66, 55],\n",
       "       [ 8, 26, 14, 14, 36, 51, 89, 99, 21, 50],\n",
       "       [96, 48, 38, 34, 70, 78, 58, 48, 46, 47],\n",
       "       [73, 73, 33, 66, 99, 78, 87, 46, 23, 45],\n",
       "       [67,  3, 77, 89, 74, 82, 87,  5, 84, 46],\n",
       "       [85, 79, 51, 54, 31,  7, 82,  7, 94, 40],\n",
       "       [14, 51, 70, 41, 29, 76, 41, 41, 11, 34]])"
      ]
     },
     "execution_count": 11,
     "metadata": {},
     "output_type": "execute_result"
    }
   ],
   "source": [
    "matrix_x = np.random.randint(1,100,size=(10,10))\n",
    "matrix_x"
   ]
  },
  {
   "cell_type": "code",
   "execution_count": 18,
   "metadata": {},
   "outputs": [
    {
     "name": "stdout",
     "output_type": "stream",
     "text": [
      "\n",
      "Indices of the top 5 maximum values:\n",
      "Top 0: [1 5 0 4 6] -> Value: [[47 79 47 66 18 41 95 61 61 11]\n",
      " [96 48 38 34 70 78 58 48 46 47]\n",
      " [94 69 14  6 92 24 70 97 82 63]\n",
      " [ 8 26 14 14 36 51 89 99 21 50]\n",
      " [73 73 33 66 99 78 87 46 23 45]]\n",
      "Top 1: [6 0 7 7 4] -> Value: [[73 73 33 66 99 78 87 46 23 45]\n",
      " [94 69 14  6 92 24 70 97 82 63]\n",
      " [67  3 77 89 74 82 87  5 84 46]\n",
      " [67  3 77 89 74 82 87  5 84 46]\n",
      " [ 8 26 14 14 36 51 89 99 21 50]]\n"
     ]
    }
   ],
   "source": [
    "top_indices = np.unravel_index(np.argpartition(matrix_x, -5, axis=None)[-5:], matrix_x.shape)\n",
    "\n",
    "# Display the indices of the top 5 maximum values\n",
    "print(\"\\nIndices of the top 5 maximum values:\")\n",
    "for i, index in enumerate(top_indices):\n",
    "    print(f\"Top {i}: {index} -> Value: {matrix_x[index]}\")"
   ]
  }
 ],
 "metadata": {
  "kernelspec": {
   "display_name": "Python 3",
   "language": "python",
   "name": "python3"
  },
  "language_info": {
   "codemirror_mode": {
    "name": "ipython",
    "version": 3
   },
   "file_extension": ".py",
   "mimetype": "text/x-python",
   "name": "python",
   "nbconvert_exporter": "python",
   "pygments_lexer": "ipython3",
   "version": "3.9.5"
  },
  "orig_nbformat": 4
 },
 "nbformat": 4,
 "nbformat_minor": 2
}
