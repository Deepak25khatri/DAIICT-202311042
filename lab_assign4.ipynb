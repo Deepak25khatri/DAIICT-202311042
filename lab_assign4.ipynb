{
 "cells": [
  {
   "cell_type": "markdown",
   "metadata": {},
   "source": [
    "# Programming Lab\n",
    "# Assignment 3"
   ]
  },
  {
   "cell_type": "markdown",
   "metadata": {},
   "source": [
    "## Deepak Khatri-202311042\n",
    "## oct 4"
   ]
  },
  {
   "cell_type": "markdown",
   "metadata": {},
   "source": [
    "## Que-1: Implement a custom exception named \"CustomOutOfRangeError.\" Write a Python program that asks the user to enter an integer within a specified range (e.g., 10 to 50). If the input is outside this range, raise the \"CustomOutOfRangeError\" with a meaningful error message. Handle this exception and ask the user for input again until a valid input is provided."
   ]
  },
  {
   "cell_type": "code",
   "execution_count": 2,
   "metadata": {},
   "outputs": [
    {
     "name": "stdout",
     "output_type": "stream",
     "text": [
      "Input is out of range\n",
      "Input is out of range\n",
      "36\n",
      "you entered valid num None\n"
     ]
    }
   ],
   "source": [
    "class CustomOutOfRange(Exception):\n",
    "    def __init__(self, message = \"Input is out of range\"):\n",
    "        self.message = message\n",
    "        super().__init__(self.message)\n",
    "def get_valid_num():\n",
    "    try:\n",
    "        num = int(input(\"Enter the num between 10 to 50 range: \"))\n",
    "        if 10<=num<=50:\n",
    "            print(num)\n",
    "        else:\n",
    "            raise CustomOutOfRange()\n",
    "    except CustomOutOfRange as e:\n",
    "        print(e)\n",
    "        return get_valid_num()\n",
    "    except ValueError:\n",
    "        print(\"Invalid input, please enter it again\")\n",
    "        return get_valid_num()\n",
    "    \n",
    "try:\n",
    "    valid_input = get_valid_num()\n",
    "    print(\"you entered valid num\",valid_input)\n",
    "except KeyboardInterrupt:\n",
    "    print(\"\\n programe terminated\")\n"
   ]
  },
  {
   "cell_type": "markdown",
   "metadata": {},
   "source": [
    "## Que-2: Write a Python program that reads data from a CSV file. Implement exception handling to manage potential errors such as file not found, invalid data format, or missing columns. Create a custom exception \"CSVDataError\" to handle issues related to data format. Display appropriate error messages for different exceptions."
   ]
  },
  {
   "cell_type": "code",
   "execution_count": 21,
   "metadata": {},
   "outputs": [],
   "source": [
    "from tabulate import tabulate\n",
    "\n",
    "class CSVDataError(Exception):\n",
    "    def __init__(self, message=\"CSV data error\"):\n",
    "        self.message = message\n",
    "        super().__init__(self.message)\n",
    "\n",
    "def read_csv_file(file_path):\n",
    "    try:\n",
    "        with open(file_path, 'r') as file:\n",
    "            header = file.readline().strip().split(',')\n",
    "            data = []\n",
    "            for line in file:\n",
    "                values = line.strip().split(',')\n",
    "                if len(values) != len(header):\n",
    "                    raise CSVDataError(\"Number of columns in the CSV data is inconsistent.\")\n",
    "                data.append(values)\n",
    "            return header, data\n",
    "    except FileNotFoundError:\n",
    "        raise FileNotFoundError(f\"File '{file_path}' not found.\")\n",
    "    except CSVDataError as e:\n",
    "        raise e\n",
    "    except Exception as e:\n",
    "        raise Exception(f\"An unexpected error occurred: {e}\")"
   ]
  },
  {
   "cell_type": "code",
   "execution_count": 22,
   "metadata": {},
   "outputs": [
    {
     "name": "stdout",
     "output_type": "stream",
     "text": [
      "File 'temfp.csv' not found.\n"
     ]
    }
   ],
   "source": [
    "file_path = 'temfp.csv'\n",
    "try:\n",
    "    header, data = read_csv_file(file_path)\n",
    "    table = tabulate(data, header, tablefmt=\"grid\")\n",
    "    print(table)\n",
    "except FileNotFoundError as e:\n",
    "    print(e)\n",
    "except CSVDataError as e:\n",
    "    print(f\"CSV Data Error: {e}\")\n",
    "except Exception as e:\n",
    "    print(f\"An unexpected error occurred: {e}\")"
   ]
  },
  {
   "cell_type": "code",
   "execution_count": 25,
   "metadata": {},
   "outputs": [
    {
     "name": "stdout",
     "output_type": "stream",
     "text": [
      "+--------+--------+--------+\n",
      "| col1   | col2   | col3   |\n",
      "+========+========+========+\n",
      "| d1     | d2     | d3     |\n",
      "+--------+--------+--------+\n",
      "| a1     | a2     | a3     |\n",
      "+--------+--------+--------+\n"
     ]
    }
   ],
   "source": [
    "file_path = 'temp.csv'\n",
    "try:\n",
    "    header, data = read_csv_file(file_path)\n",
    "    table = tabulate(data, header, tablefmt=\"grid\")\n",
    "    print(table)\n",
    "except FileNotFoundError as e:\n",
    "    print(e)\n",
    "except CSVDataError as e:\n",
    "    print(f\"CSV Data Error: {e}\")\n",
    "except Exception as e:\n",
    "    print(f\"An unexpected error occurred: {e}\")"
   ]
  },
  {
   "cell_type": "code",
   "execution_count": 27,
   "metadata": {},
   "outputs": [
    {
     "name": "stdout",
     "output_type": "stream",
     "text": [
      "CSV Data Error: Number of columns in the CSV data is inconsistent.\n"
     ]
    }
   ],
   "source": [
    "file_path = 'temp2.csv'\n",
    "try:\n",
    "    header, data = read_csv_file(file_path)\n",
    "    table = tabulate(data, header, tablefmt=\"grid\")\n",
    "    print(table)\n",
    "except FileNotFoundError as e:\n",
    "    print(e)\n",
    "except CSVDataError as e:\n",
    "    print(f\"CSV Data Error: {e}\")\n",
    "except Exception as e:\n",
    "    print(f\"An unexpected error occurred: {e}\")"
   ]
  },
  {
   "cell_type": "markdown",
   "metadata": {},
   "source": [
    "## Que-3: Create a Python module that defines a function to calculate the nth Fibonacci number. Import this module into another script and use the function to calculate the Fibonacci sequence for the first 15 numbers. Display the results."
   ]
  },
  {
   "cell_type": "code",
   "execution_count": null,
   "metadata": {},
   "outputs": [],
   "source": [
    "# def fib(n):\n",
    "#     a,b = 0,1\n",
    "#     while a<n:\n",
    "#         print(a,end=\"\")\n",
    "#         a,b = b,a+b\n",
    "#     print()"
   ]
  },
  {
   "cell_type": "code",
   "execution_count": 1,
   "metadata": {},
   "outputs": [
    {
     "name": "stdout",
     "output_type": "stream",
     "text": [
      "011235813\n",
      "None\n"
     ]
    }
   ],
   "source": [
    "import fibo\n",
    "print(fibo.fib(15))"
   ]
  },
  {
   "cell_type": "markdown",
   "metadata": {},
   "source": [
    "## Que-4: Develop a Python module that provides functionalities for matrix operations, including addition, subtraction, and multiplication using NumPy. Use this module to perform matrix multiplication on two randomly generated matrices."
   ]
  },
  {
   "cell_type": "code",
   "execution_count": null,
   "metadata": {},
   "outputs": [],
   "source": [
    "# import numpy as np\n",
    "# def matrix_add(matrix1,matrix2):\n",
    "#     try:\n",
    "#         result  = np.add(matrix1,matrix2)\n",
    "#         return result\n",
    "#     except ValueError:\n",
    "#         return \"Matrix dimension must be same\"\n",
    "# def matrix_subtract(matrix1,matrix2):\n",
    "#     try:\n",
    "#         result  = np.subtract(matrix1,matrix2)\n",
    "#         return result\n",
    "#     except ValueError:\n",
    "#         return \"Matrix dimension must be same\"\n",
    "# def matrix_mul(matrix1,matrix2):\n",
    "#     try:\n",
    "#         result  = np.dot(matrix1,matrix2)\n",
    "#         return result\n",
    "#     except ValueError:\n",
    "#         return \"Matrix are not suitable for multiplication \""
   ]
  },
  {
   "cell_type": "code",
   "execution_count": 33,
   "metadata": {},
   "outputs": [
    {
     "name": "stdout",
     "output_type": "stream",
     "text": [
      "addition of matrix\n",
      " [[14  9 11  9]\n",
      " [ 6 10 16 12]\n",
      " [10  8 11 11]\n",
      " [ 9  4 10  7]]\n",
      "subtraction of matrix\n",
      " [[ 0 -3  1 -1]\n",
      " [-4  8  2  6]\n",
      " [ 2  2 -7  7]\n",
      " [ 3  2  6 -5]]\n",
      "multipliation of matrix\n",
      " [[100  67 118  80]\n",
      " [115  51 167 104]\n",
      " [102  56 101 103]\n",
      " [ 92  64 125  61]]\n"
     ]
    }
   ],
   "source": [
    "\n",
    "import numpy as np\n",
    "import matrix\n",
    "matrix_a = np.random.randint(1, 10, size=(4, 4))\n",
    "matrix_b = np.random.randint(1, 10, size=(4, 4))\n",
    "print(\"addition of matrix\\n\",matrix.matrix_add(matrix_a,matrix_b))\n",
    "print(\"subtraction of matrix\\n\",matrix.matrix_subtract(matrix_a,matrix_b))\n",
    "print(\"multipliation of matrix\\n\",matrix.matrix_mul(matrix_a,matrix_b))\n"
   ]
  },
  {
   "attachments": {},
   "cell_type": "markdown",
   "metadata": {},
   "source": [
    "## Que-5: Write a Python program that generates a 10x10 numpy array with random integers between 1 and 100. Find and display the indices of the top 5 maximum values in the array."
   ]
  },
  {
   "cell_type": "code",
   "execution_count": 11,
   "metadata": {},
   "outputs": [
    {
     "data": {
      "text/plain": [
       "array([[94, 69, 14,  6, 92, 24, 70, 97, 82, 63],\n",
       "       [47, 79, 47, 66, 18, 41, 95, 61, 61, 11],\n",
       "       [36,  8, 23, 62, 76, 64, 28, 40, 61, 72],\n",
       "       [82, 87, 44,  5, 22, 10, 38, 52, 66, 55],\n",
       "       [ 8, 26, 14, 14, 36, 51, 89, 99, 21, 50],\n",
       "       [96, 48, 38, 34, 70, 78, 58, 48, 46, 47],\n",
       "       [73, 73, 33, 66, 99, 78, 87, 46, 23, 45],\n",
       "       [67,  3, 77, 89, 74, 82, 87,  5, 84, 46],\n",
       "       [85, 79, 51, 54, 31,  7, 82,  7, 94, 40],\n",
       "       [14, 51, 70, 41, 29, 76, 41, 41, 11, 34]])"
      ]
     },
     "execution_count": 11,
     "metadata": {},
     "output_type": "execute_result"
    }
   ],
   "source": [
    "matrix_x = np.random.randint(1,100,size=(10,10))\n",
    "matrix_x"
   ]
  },
  {
   "cell_type": "code",
   "execution_count": 32,
   "metadata": {},
   "outputs": [
    {
     "name": "stdout",
     "output_type": "stream",
     "text": [
      "\n",
      "Indices of the Top 5 Maximum Values:\n",
      "\n",
      "Top 1 value: 99 at index 6, 4\n",
      "Top 2 value: 99 at index 4, 7\n",
      "Top 3 value: 97 at index 0, 7\n",
      "Top 4 value: 96 at index 5, 0\n",
      "Top 5 value: 95 at index 1, 6\n"
     ]
    }
   ],
   "source": [
    "\n",
    "top_indices = np.unravel_index(np.argsort(matrix_x, axis=None)[-5:], matrix_x.shape)\n",
    "\n",
    "print(\"\\nIndices of the Top 5 Maximum Values:\\n\")\n",
    "for i in range(4,-1,-1):\n",
    "    print(f\"Top {5-i} value: {matrix_x[top_indices[0][i], top_indices[1][i]]} at index {top_indices[0][i]}, {top_indices[1][i]}\")"
   ]
  }
 ],
 "metadata": {
  "kernelspec": {
   "display_name": "Python 3",
   "language": "python",
   "name": "python3"
  },
  "language_info": {
   "codemirror_mode": {
    "name": "ipython",
    "version": 3
   },
   "file_extension": ".py",
   "mimetype": "text/x-python",
   "name": "python",
   "nbconvert_exporter": "python",
   "pygments_lexer": "ipython3",
   "version": "3.9.5"
  },
  "orig_nbformat": 4
 },
 "nbformat": 4,
 "nbformat_minor": 2
}
