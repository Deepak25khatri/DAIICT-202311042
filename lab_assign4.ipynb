{
 "cells": [
  {
   "cell_type": "markdown",
   "metadata": {},
   "source": [
    "# Programming Lab\n",
    "# Assignment 3"
   ]
  },
  {
   "cell_type": "markdown",
   "metadata": {},
   "source": [
    "## Deepak Khatri-202311042\n",
    "## oct 4"
   ]
  },
  {
   "cell_type": "markdown",
   "metadata": {},
   "source": [
    "## Que-1: Implement a custom exception named \"CustomOutOfRangeError.\" Write a Python program that asks the user to enter an integer within a specified range (e.g., 10 to 50). If the input is outside this range, raise the \"CustomOutOfRangeError\" with a meaningful error message. Handle this exception and ask the user for input again until a valid input is provided."
   ]
  },
  {
   "cell_type": "code",
   "execution_count": 2,
   "metadata": {},
   "outputs": [
    {
     "name": "stdout",
     "output_type": "stream",
     "text": [
      "Input is out of range\n",
      "Input is out of range\n",
      "36\n",
      "you entered valid num None\n"
     ]
    }
   ],
   "source": [
    "class CustomOutOfRange(Exception):\n",
    "    def __init__(self, message = \"Input is out of range\"):\n",
    "        self.message = message\n",
    "        super().__init__(self.message)\n",
    "def get_valid_num():\n",
    "    try:\n",
    "        num = int(input(\"Enter the num between 10 to 50 range: \"))\n",
    "        if 10<=num<=50:\n",
    "            print(num)\n",
    "        else:\n",
    "            raise CustomOutOfRange()\n",
    "    except CustomOutOfRange as e:\n",
    "        print(e)\n",
    "        return get_valid_num()\n",
    "    except ValueError:\n",
    "        print(\"Invalid input, please enter it again\")\n",
    "        return get_valid_num()\n",
    "    \n",
    "try:\n",
    "    valid_input = get_valid_num()\n",
    "    print(\"you entered valid num\",valid_input)\n",
    "except KeyboardInterrupt:\n",
    "    print(\"\\n programe terminated\")\n"
   ]
  },
  {
   "cell_type": "markdown",
   "metadata": {},
   "source": [
    "## Que-2: Write a Python program that reads data from a CSV file. Implement exception handling to manage potential errors such as file not found, invalid data format, or missing columns. Create a custom exception \"CSVDataError\" to handle issues related to data format. Display appropriate error messages for different exceptions."
   ]
  },
  {
   "cell_type": "markdown",
   "metadata": {},
   "source": [
    "## Que-3: Create a Python module that defines a function to calculate the nth Fibonacci number. Import this module into another script and use the function to calculate the Fibonacci sequence for the first 15 numbers. Display the results."
   ]
  },
  {
   "cell_type": "code",
   "execution_count": 3,
   "metadata": {},
   "outputs": [
    {
     "name": "stdout",
     "output_type": "stream",
     "text": [
      "011235813\n",
      "None\n"
     ]
    }
   ],
   "source": [
    "import fibo\n",
    "print(fibo.fib(15))"
   ]
  },
  {
   "cell_type": "markdown",
   "metadata": {},
   "source": [
    "## Que-4: Develop a Python module that provides functionalities for matrix operations, including addition, subtraction, and multiplication using NumPy. Use this module to perform matrix multiplication on two randomly generated matrices."
   ]
  },
  {
   "cell_type": "code",
   "execution_count": null,
   "metadata": {},
   "outputs": [],
   "source": [
    "##"
   ]
  }
 ],
 "metadata": {
  "kernelspec": {
   "display_name": "Python 3",
   "language": "python",
   "name": "python3"
  },
  "language_info": {
   "codemirror_mode": {
    "name": "ipython",
    "version": 3
   },
   "file_extension": ".py",
   "mimetype": "text/x-python",
   "name": "python",
   "nbconvert_exporter": "python",
   "pygments_lexer": "ipython3",
   "version": "3.10.5"
  },
  "orig_nbformat": 4
 },
 "nbformat": 4,
 "nbformat_minor": 2
}
