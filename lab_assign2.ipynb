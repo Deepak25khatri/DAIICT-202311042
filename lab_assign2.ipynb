{
 "cells": [
  {
   "cell_type": "markdown",
   "metadata": {},
   "source": [
    "# Programming Lab\n",
    "# Assignment – II"
   ]
  },
  {
   "cell_type": "markdown",
   "metadata": {},
   "source": [
    "## Deepak Khatri-202311042"
   ]
  },
  {
   "cell_type": "markdown",
   "metadata": {},
   "source": [
    "## sep 13"
   ]
  },
  {
   "cell_type": "markdown",
   "metadata": {},
   "source": [
    "### Q.2 Write a Python program that takes a dictionary containing dates and finds all the Sundays.\n"
   ]
  },
  {
   "cell_type": "code",
   "execution_count": 14,
   "metadata": {},
   "outputs": [
    {
     "name": "stdout",
     "output_type": "stream",
     "text": [
      "List of Sundays:\n",
      "date1:2023-09-03\n",
      "date3:2023-09-17\n"
     ]
    }
   ],
   "source": [
    "from datetime import datetime\n",
    "date_dict = {\n",
    "    \"date1\": \"2023-09-03\",\n",
    "    \"date2\": \"2023-09-11\",\n",
    "    \"date3\": \"2023-09-17\",\n",
    "    \"date4\": \"2023-09-23\",\n",
    "}\n",
    "def find_sun(date_dict):\n",
    "    sunday = {}\n",
    "    for key,str in date_dict.items():\n",
    "        date_obj = datetime.strptime(str,'%Y-%m-%d')\n",
    "        if date_obj.weekday()==6:\n",
    "            sunday[key] = str\n",
    "    return sunday\n",
    "sunday_date = find_sun(date_dict)\n",
    "print(\"List of Sundays:\")\n",
    "for key,value in sunday_date.items():\n",
    "    print(f\"{key}:{value}\")\n"
   ]
  },
  {
   "cell_type": "markdown",
   "metadata": {},
   "source": [
    "### Q.3 Write a Python program to calculate the area(round to 2 decimals) of a triangle when we know the lengths of two sides and the included angle between them.[sine rule]"
   ]
  },
  {
   "cell_type": "code",
   "execution_count": 20,
   "metadata": {},
   "outputs": [
    {
     "name": "stdout",
     "output_type": "stream",
     "text": [
      "The area of the triangle is:  15.16\n"
     ]
    }
   ],
   "source": [
    "import math\n",
    "a = int(input(\"Enter the length of the first side:\"))\n",
    "b = int(input(\"Enter the length of the second side:\"))\n",
    "deg = float(input(\"Enter the included angle in degrees:\"))\n",
    "rad_deg = math.radians(deg)\n",
    "area  = 0.5*a*b*(math.sin(rad_deg))\n",
    "print(\"The area of the triangle is: \",round(area,2))"
   ]
  },
  {
   "cell_type": "markdown",
   "metadata": {},
   "source": [
    "### Q.5 Convert a String to camelCase (using ‘re’ module)"
   ]
  },
  {
   "cell_type": "code",
   "execution_count": 36,
   "metadata": {},
   "outputs": [
    {
     "name": "stdout",
     "output_type": "stream",
     "text": [
      "helloworld\n"
     ]
    }
   ],
   "source": [
    "import re\n",
    "def camel_case(s):\n",
    "    word = re.split(r'[_\\s]+',s) \n",
    "    return word[0].lower()+''.join(x.capitalize for x in word[1:])\n",
    "st = \"Helloworld\"\n",
    "result = camel_case(st)\n",
    "print(result)"
   ]
  }
 ],
 "metadata": {
  "kernelspec": {
   "display_name": "Python 3",
   "language": "python",
   "name": "python3"
  },
  "language_info": {
   "codemirror_mode": {
    "name": "ipython",
    "version": 3
   },
   "file_extension": ".py",
   "mimetype": "text/x-python",
   "name": "python",
   "nbconvert_exporter": "python",
   "pygments_lexer": "ipython3",
   "version": "3.10.5"
  },
  "orig_nbformat": 4
 },
 "nbformat": 4,
 "nbformat_minor": 2
}
