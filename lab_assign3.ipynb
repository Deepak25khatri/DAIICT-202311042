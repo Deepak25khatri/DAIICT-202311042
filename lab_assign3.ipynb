{
 "cells": [
  {
   "cell_type": "markdown",
   "metadata": {},
   "source": [
    "# Programming Lab\n",
    "# Assignment 3"
   ]
  },
  {
   "cell_type": "markdown",
   "metadata": {},
   "source": [
    "## Deepak Khatri-202311042\n",
    "## sep 27"
   ]
  },
  {
   "cell_type": "markdown",
   "metadata": {},
   "source": [
    "## 1. Write a program which take a word from user as input and remove that word from a particular file."
   ]
  },
  {
   "cell_type": "code",
   "execution_count": 10,
   "metadata": {},
   "outputs": [
    {
     "name": "stdout",
     "output_type": "stream",
     "text": [
      " the word is remvoed\n"
     ]
    }
   ],
   "source": [
    "# there is txt file \"workfile.txt\"\n",
    "remove_char = input(\"Write the word to remove: \")\n",
    "with open(\"workfile.txt\",'r',encoding='utf-8') as f:\n",
    "    read_data = f.read()\n",
    "\n",
    "    change_data=read_data.replace(remove_char,\"\")\n",
    "    with open(\"workfile.txt\",'w+',encoding='utf-8') as f:\n",
    "        f.write(change_data)\n",
    "print(\" the word is removed\")\n",
    "\n",
    "    \n",
    "    \n",
    "\n",
    "\n"
   ]
  },
  {
   "cell_type": "markdown",
   "metadata": {},
   "source": [
    "## "
   ]
  }
 ],
 "metadata": {
  "kernelspec": {
   "display_name": "Python 3",
   "language": "python",
   "name": "python3"
  },
  "language_info": {
   "codemirror_mode": {
    "name": "ipython",
    "version": 3
   },
   "file_extension": ".py",
   "mimetype": "text/x-python",
   "name": "python",
   "nbconvert_exporter": "python",
   "pygments_lexer": "ipython3",
   "version": "3.10.5"
  },
  "orig_nbformat": 4
 },
 "nbformat": 4,
 "nbformat_minor": 2
}
