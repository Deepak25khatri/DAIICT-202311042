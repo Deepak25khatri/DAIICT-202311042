{
 "cells": [
  {
   "cell_type": "markdown",
   "metadata": {},
   "source": [
    "# Programming Lab\n",
    "# Assignment 3"
   ]
  },
  {
   "cell_type": "markdown",
   "metadata": {},
   "source": [
    "## Deepak Khatri-202311042\n",
    "## sep 27"
   ]
  },
  {
   "cell_type": "markdown",
   "metadata": {},
   "source": [
    "## 1. Write a program which take a word from user as input and remove that word from a particular file."
   ]
  },
  {
   "cell_type": "code",
   "execution_count": 10,
   "metadata": {},
   "outputs": [
    {
     "name": "stdout",
     "output_type": "stream",
     "text": [
      " the word is removed\n"
     ]
    }
   ],
   "source": [
    "# there is txt file \"workfile.txt\"\n",
    "remove_char = input(\"Write the word to remove: \")\n",
    "with open(\"workfile.txt\",'r',encoding='utf-8') as f:\n",
    "    read_data = f.read()\n",
    "\n",
    "    change_data=read_data.replace(remove_char,\"\")\n",
    "    with open(\"workfile.txt\",'w+',encoding='utf-8') as f:\n",
    "        f.write(change_data)\n",
    "print(\" the word is removed\")\n",
    "\n",
    "    \n",
    "    \n",
    "\n",
    "\n"
   ]
  },
  {
   "attachments": {},
   "cell_type": "markdown",
   "metadata": {},
   "source": [
    "## 2. Write a program that can remove the word which is mentioned in stopword.txt https://www.kaggle.com/datasets/rowhitswami/stopwords"
   ]
  },
  {
   "cell_type": "code",
   "execution_count": 11,
   "metadata": {},
   "outputs": [
    {
     "name": "stdout",
     "output_type": "stream",
     "text": [
      "Stop words removed from target file.\n"
     ]
    }
   ],
   "source": [
    "def remove_stopwords_from_file(target_file, stopwords):\n",
    "      with open(target_file, 'r') as file:\n",
    "          text = file.read()\n",
    "\n",
    "          words = text.split()\n",
    "\n",
    "          filtered_words = [word for word in words if word.lower() not in stopwords]\n",
    "\n",
    "          filtered_text = ' '.join(filtered_words)\n",
    "\n",
    "          with open(target_file, 'w') as file:\n",
    "              file.write(filtered_text)\n",
    "\n",
    "          file.close()\n",
    "          print(f\"Stop words removed from target file.\")\n",
    "\n",
    "stopwords = []\n",
    "with open('stopwords.txt', 'r') as file:\n",
    "    stopwords = file.read().split()\n",
    "\n",
    "remove_stopwords_from_file('target.txt', stopwords)"
   ]
  },
  {
   "attachments": {},
   "cell_type": "markdown",
   "metadata": {},
   "source": [
    "## Question 3. Write a program which can handle the following exception: ValueError, TypeError, NameError and SyntaxError"
   ]
  },
  {
   "cell_type": "code",
   "execution_count": 12,
   "metadata": {},
   "outputs": [
    {
     "name": "stdout",
     "output_type": "stream",
     "text": [
      "ValueError: invalid literal for int() with base 10: 'tt'\n"
     ]
    }
   ],
   "source": [
    "try:\n",
    "    # Example 1: ValueError\n",
    "    num = int(input(\"Enter a number: \"))\n",
    "    print(\"Square of the number:\", num ** 2)\n",
    "except ValueError as ve:\n",
    "    print(f\"ValueError: {ve}\")"
   ]
  },
  {
   "cell_type": "code",
   "execution_count": 13,
   "metadata": {},
   "outputs": [
    {
     "name": "stdout",
     "output_type": "stream",
     "text": [
      "TypeError: can only concatenate str (not \"int\") to str\n"
     ]
    }
   ],
   "source": [
    "try:\n",
    "    # Example 2: TypeError\n",
    "    text = \"Hello\"\n",
    "    print(\"Adding a number to text:\", text + 5)\n",
    "except TypeError as te:\n",
    "    print(f\"TypeError: {te}\")"
   ]
  },
  {
   "cell_type": "code",
   "execution_count": 14,
   "metadata": {},
   "outputs": [
    {
     "name": "stdout",
     "output_type": "stream",
     "text": [
      "NameError: name 'variable_not_defined' is not defined\n"
     ]
    }
   ],
   "source": [
    "try:\n",
    "    # Example 3: NameError\n",
    "    print(variable_not_defined)\n",
    "except NameError as ne:\n",
    "    print(f\"NameError: {ne}\")"
   ]
  },
  {
   "cell_type": "code",
   "execution_count": 15,
   "metadata": {},
   "outputs": [
    {
     "name": "stdout",
     "output_type": "stream",
     "text": [
      "SyntaxError: unexpected EOF while parsing (<string>, line 1)\n"
     ]
    }
   ],
   "source": [
    "try:\n",
    "    # Example 4: SyntaxError\n",
    "    eval(\"print('Hello, world!'\")\n",
    "except SyntaxError as se:\n",
    "    print(f\"SyntaxError: {se}\")"
   ]
  },
  {
   "cell_type": "markdown",
   "metadata": {},
   "source": [
    "## "
   ]
  }
 ],
 "metadata": {
  "kernelspec": {
   "display_name": "Python 3",
   "language": "python",
   "name": "python3"
  },
  "language_info": {
   "codemirror_mode": {
    "name": "ipython",
    "version": 3
   },
   "file_extension": ".py",
   "mimetype": "text/x-python",
   "name": "python",
   "nbconvert_exporter": "python",
   "pygments_lexer": "ipython3",
   "version": "3.9.5"
  },
  "orig_nbformat": 4
 },
 "nbformat": 4,
 "nbformat_minor": 2
}
