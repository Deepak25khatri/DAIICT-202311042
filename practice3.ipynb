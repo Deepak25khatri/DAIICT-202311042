{
 "cells": [
  {
   "cell_type": "markdown",
   "metadata": {},
   "source": [
    "# Python\n",
    "## 2 August 2023"
   ]
  },
  {
   "cell_type": "markdown",
   "metadata": {},
   "source": [
    "## function of string\n",
    "## str.join()"
   ]
  },
  {
   "cell_type": "code",
   "execution_count": 2,
   "metadata": {},
   "outputs": [
    {
     "name": "stdout",
     "output_type": "stream",
     "text": [
      "Darshit!Deepak!Nirmal\n"
     ]
    }
   ],
   "source": [
    "my_tuple = (\"Darshit\",\"Deepak\",\"Nirmal\")\n",
    "x = \"!\".join(my_tuple)\n",
    "print(x)"
   ]
  },
  {
   "cell_type": "markdown",
   "metadata": {},
   "source": [
    "## io.StringIO()"
   ]
  },
  {
   "cell_type": "code",
   "execution_count": 6,
   "metadata": {},
   "outputs": [
    {
     "data": {
      "text/plain": [
       "'Jay Shree Ram.\\nJay Shree Krishna.\\n'"
      ]
     },
     "execution_count": 6,
     "metadata": {},
     "output_type": "execute_result"
    }
   ],
   "source": [
    "import io\n",
    "output = io.StringIO()\n",
    "output.write('Jay Shree Ram.\\n')\n",
    "print(\"Jay Shree Krishna.\",file=output)\n",
    "contents = output.getvalue()\n",
    "output.close()\n",
    "contents"
   ]
  },
  {
   "cell_type": "markdown",
   "metadata": {},
   "source": [
    "## writing bio"
   ]
  },
  {
   "cell_type": "code",
   "execution_count": 15,
   "metadata": {},
   "outputs": [
    {
     "data": {
      "text/plain": [
       "\"My name is Deepak Kjhatri. I have completed my B.E. from GEC Patan     I'm currently pursuing Mtech in ML\""
      ]
     },
     "execution_count": 15,
     "metadata": {},
     "output_type": "execute_result"
    }
   ],
   "source": [
    "import io\n",
    "output = io.StringIO()\n",
    "output.write('''My name is Deepak Khatri. I have completed my B.E. from GEC Patan\\\n",
    "     I'm currently pursuing Mtech in ML''')\n",
    "contents = output.getvalue()\n",
    "output.close()\n",
    "contents"
   ]
  },
  {
   "cell_type": "markdown",
   "metadata": {},
   "source": [
    "## str.capitalize()"
   ]
  },
  {
   "cell_type": "code",
   "execution_count": 20,
   "metadata": {},
   "outputs": [
    {
     "name": "stdout",
     "output_type": "stream",
     "text": [
      "Deepak khatri\n",
      "Roses are red\n"
     ]
    }
   ],
   "source": [
    "name = 'deePAk Khatri'\n",
    "print(name.capitalize())\n",
    "string = \"roses are red\"\n",
    "string1 = string.capitalize()\n",
    "print(string1)"
   ]
  },
  {
   "cell_type": "markdown",
   "metadata": {},
   "source": [
    "## str.casefold()"
   ]
  },
  {
   "cell_type": "code",
   "execution_count": 1,
   "metadata": {},
   "outputs": [
    {
     "name": "stdout",
     "output_type": "stream",
     "text": [
      "hello! and welcome to programming lab\n"
     ]
    }
   ],
   "source": [
    "txt = \"Hello! And Welcome to programming lab\"\n",
    "x = txt.casefold()\n",
    "print(x)"
   ]
  },
  {
   "cell_type": "markdown",
   "metadata": {},
   "source": [
    "## str.center"
   ]
  },
  {
   "cell_type": "code",
   "execution_count": 12,
   "metadata": {},
   "outputs": [
    {
     "name": "stdout",
     "output_type": "stream",
     "text": [
      "The string ater applying 'Center()' is  !!!!!!!!!Welcome To The Course!!!!!!!!!!\n"
     ]
    }
   ],
   "source": [
    "str1 = \"Welcome To The Course\"\n",
    "output = str1.center(40,'!')\n",
    "print(\"The string ater applying 'Center()' is \", output)"
   ]
  },
  {
   "cell_type": "code",
   "execution_count": 13,
   "metadata": {},
   "outputs": [
    {
     "ename": "TypeError",
     "evalue": "The fill character must be exactly one character long",
     "output_type": "error",
     "traceback": [
      "\u001b[0;31m---------------------------------------------------------------------------\u001b[0m",
      "\u001b[0;31mTypeError\u001b[0m                                 Traceback (most recent call last)",
      "Cell \u001b[0;32mIn[13], line 2\u001b[0m\n\u001b[1;32m      1\u001b[0m str1 \u001b[39m=\u001b[39m \u001b[39m\"\u001b[39m\u001b[39mWelcome To The Club\u001b[39m\u001b[39m\"\u001b[39m\n\u001b[0;32m----> 2\u001b[0m output \u001b[39m=\u001b[39m str1\u001b[39m.\u001b[39;49mcenter(\u001b[39m40\u001b[39;49m,\u001b[39m'\u001b[39;49m\u001b[39maa\u001b[39;49m\u001b[39m'\u001b[39;49m)\n\u001b[1;32m      3\u001b[0m \u001b[39mprint\u001b[39m(\u001b[39m\"\u001b[39m\u001b[39mThe string ater applying \u001b[39m\u001b[39m'\u001b[39m\u001b[39mCenter()\u001b[39m\u001b[39m'\u001b[39m\u001b[39m is \u001b[39m\u001b[39m\"\u001b[39m, output)\n",
      "\u001b[0;31mTypeError\u001b[0m: The fill character must be exactly one character long"
     ]
    }
   ],
   "source": [
    "str1 = \"Welcome To The Club\"\n",
    "output = str1.center(40,'aa')\n",
    "print(\"The string ater applying 'Center()' is \", output)"
   ]
  }
 ],
 "metadata": {
  "kernelspec": {
   "display_name": "Python 3.10.5 64-bit",
   "language": "python",
   "name": "python3"
  },
  "language_info": {
   "codemirror_mode": {
    "name": "ipython",
    "version": 3
   },
   "file_extension": ".py",
   "mimetype": "text/x-python",
   "name": "python",
   "nbconvert_exporter": "python",
   "pygments_lexer": "ipython3",
   "version": "3.9.5"
  },
  "orig_nbformat": 4,
  "vscode": {
   "interpreter": {
    "hash": "26de051ba29f2982a8de78e945f0abaf191376122a1563185a90213a26c5da77"
   }
  }
 },
 "nbformat": 4,
 "nbformat_minor": 2
}
