{
 "cells": [
  {
   "cell_type": "markdown",
   "metadata": {},
   "source": [
    "## Lab1 Assignment"
   ]
  },
  {
   "cell_type": "markdown",
   "metadata": {},
   "source": [
    "### Aug 23,2023"
   ]
  },
  {
   "cell_type": "markdown",
   "metadata": {},
   "source": [
    "### QUES 1 Print the below things in python"
   ]
  },
  {
   "cell_type": "code",
   "execution_count": 1,
   "metadata": {},
   "outputs": [
    {
     "name": "stdout",
     "output_type": "stream",
     "text": [
      "Python Programming\n"
     ]
    }
   ],
   "source": [
    "print(\"Python Programming\")"
   ]
  },
  {
   "cell_type": "code",
   "execution_count": 4,
   "metadata": {},
   "outputs": [
    {
     "name": "stdout",
     "output_type": "stream",
     "text": [
      "Subject name and subject code :PC-503 Programming Lab\n"
     ]
    }
   ],
   "source": [
    "print(\"Subject name and subject code :PC-503 Programming Lab\")"
   ]
  },
  {
   "cell_type": "code",
   "execution_count": 5,
   "metadata": {},
   "outputs": [
    {
     "name": "stdout",
     "output_type": "stream",
     "text": [
      "Name: Deepak Khatri\n"
     ]
    }
   ],
   "source": [
    "print(\"Name: Deepak Khatri\")"
   ]
  },
  {
   "cell_type": "code",
   "execution_count": 6,
   "metadata": {},
   "outputs": [
    {
     "name": "stdout",
     "output_type": "stream",
     "text": [
      "Address: 248/1 sector 1c, Gandhinagar\n"
     ]
    }
   ],
   "source": [
    "print(\"Address: 248/1 sector 1c, Gandhinagar\")"
   ]
  },
  {
   "cell_type": "markdown",
   "metadata": {},
   "source": [
    "### QUES 2 Create the below variable and print its data type"
   ]
  },
  {
   "cell_type": "code",
   "execution_count": 11,
   "metadata": {},
   "outputs": [
    {
     "name": "stdout",
     "output_type": "stream",
     "text": [
      "29 c <class 'int'>\n",
      "73 % <class 'int'>\n"
     ]
    }
   ],
   "source": [
    "# a. Integer\n",
    "temp = 29\n",
    "humidity = 73\n",
    "print(temp,\"c\",type(temp))\n",
    "print(humidity,\"%\",type(humidity))"
   ]
  },
  {
   "cell_type": "code",
   "execution_count": 12,
   "metadata": {},
   "outputs": [
    {
     "name": "stdout",
     "output_type": "stream",
     "text": [
      "50.5 <class 'float'>\n",
      "23.5 <class 'float'>\n",
      "98.56 <class 'float'>\n"
     ]
    }
   ],
   "source": [
    "# b. Floating point\n",
    "road = 50.5\n",
    "water_volume = 23.5\n",
    "soil_moisture = 98.56\n",
    "print(road,type(road))\n",
    "print(water_volume,type(water_volume))\n",
    "print(soil_moisture,type(soil_moisture))\n"
   ]
  },
  {
   "cell_type": "code",
   "execution_count": 13,
   "metadata": {},
   "outputs": [
    {
     "name": "stdout",
     "output_type": "stream",
     "text": [
      "(2+3j) <class 'complex'>\n",
      "(10-6j) <class 'complex'>\n"
     ]
    }
   ],
   "source": [
    "#c. complex number\n",
    "temp1 = 2+3j\n",
    "temp2 = 10-6j\n",
    "print(temp1,type(temp1))\n",
    "print(temp2,type(temp2))"
   ]
  },
  {
   "cell_type": "code",
   "execution_count": 14,
   "metadata": {},
   "outputs": [
    {
     "name": "stdout",
     "output_type": "stream",
     "text": [
      "True <class 'bool'>\n"
     ]
    }
   ],
   "source": [
    "#d. Boolean\n",
    "print(True,type(True))"
   ]
  },
  {
   "cell_type": "markdown",
   "metadata": {},
   "source": [
    "### QUES 3 Perform the below string operation"
   ]
  },
  {
   "cell_type": "code",
   "execution_count": 22,
   "metadata": {},
   "outputs": [],
   "source": [
    "str1= \"Agricultural development is central to Indian economy\"\n",
    "str2=\"Indian agriculture is a gamble of monsoon\"\n"
   ]
  },
  {
   "cell_type": "code",
   "execution_count": 24,
   "metadata": {},
   "outputs": [
    {
     "name": "stdout",
     "output_type": "stream",
     "text": [
      "39\n"
     ]
    }
   ],
   "source": [
    "#Check whether India is in str1 or not.\n",
    "substr = \"India\"\n",
    "print(str1.find(substr))"
   ]
  },
  {
   "cell_type": "code",
   "execution_count": 27,
   "metadata": {},
   "outputs": [
    {
     "data": {
      "text/plain": [
       "'Agricultural Development Is Central To Indian Economy'"
      ]
     },
     "execution_count": 27,
     "metadata": {},
     "output_type": "execute_result"
    }
   ],
   "source": [
    "#Convert str1 and str2 into camel case.\n",
    "split1 = str1.split(\" \")\n",
    "camelcase = split1[0]+\" \"+\" \".join(word.title() for word in split1[1:])\n",
    "camelcase"
   ]
  },
  {
   "cell_type": "code",
   "execution_count": 28,
   "metadata": {},
   "outputs": [
    {
     "data": {
      "text/plain": [
       "'Indian Agriculture Is A Gamble Of Monsoon'"
      ]
     },
     "execution_count": 28,
     "metadata": {},
     "output_type": "execute_result"
    }
   ],
   "source": [
    "split2 = str2.split(\" \")\n",
    "camelcase = split2[0]+\" \"+\" \".join(word.title() for word in split2[1:])\n",
    "camelcase"
   ]
  },
  {
   "cell_type": "code",
   "execution_count": 33,
   "metadata": {},
   "outputs": [
    {
     "name": "stdout",
     "output_type": "stream",
     "text": [
      "AGRICULTURAL DEVELOPMENT IS CENTRAL TO INDIAN ECONOMY\n",
      "indian agriculture is a gamble of monsoon\n"
     ]
    }
   ],
   "source": [
    "#Convert str1 into Upper and str2 into  Lower Case\n",
    "st1 = str1.upper()\n",
    "st2 = str2.lower()\n",
    "print(st1)\n",
    "print(st2)"
   ]
  },
  {
   "cell_type": "code",
   "execution_count": 34,
   "metadata": {},
   "outputs": [
    {
     "data": {
      "text/plain": [
       "'Agricultural development is central to Indian economyIndian agriculture is a gamble of monsoon'"
      ]
     },
     "execution_count": 34,
     "metadata": {},
     "output_type": "execute_result"
    }
   ],
   "source": [
    "#Combin str1 and str2\n",
    "f_str = str1+str2\n",
    "f_str"
   ]
  },
  {
   "cell_type": "code",
   "execution_count": 38,
   "metadata": {},
   "outputs": [
    {
     "name": "stdout",
     "output_type": "stream",
     "text": [
      "Agricultural \t\t development is central to Indian economy\n"
     ]
    }
   ],
   "source": [
    "#Add tabs in str1 in between Agricultural and development\n",
    "str_t = \"Agricultural \\t\\t development is central to Indian economy\"\n",
    "print(str_t)"
   ]
  },
  {
   "cell_type": "code",
   "execution_count": 50,
   "metadata": {},
   "outputs": [
    {
     "name": "stdout",
     "output_type": "stream",
     "text": [
      "['Agricultural', 'development', 'is', 'central', 'to', 'Indian', 'economy']\n",
      "['Indian', 'agriculture', 'is', 'a', 'gamble', 'of', 'monsoon']\n"
     ]
    }
   ],
   "source": [
    "#Separate all words of str1 and srt2\n",
    "split_str1 = str1.split()\n",
    "print(split_str1)\n",
    "split_str2 = str2.split()\n",
    "print(split_str2)"
   ]
  },
  {
   "cell_type": "code",
   "execution_count": 53,
   "metadata": {},
   "outputs": [
    {
     "name": "stdout",
     "output_type": "stream",
     "text": [
      "False\n",
      "False\n",
      "False\n"
     ]
    }
   ],
   "source": [
    "#Check if the str1 is alphabetic, numeric or alphanumeric\n",
    "result = str1.isalpha()\n",
    "print(result)\n",
    "result1 = str1.isnumeric()\n",
    "print(result1)\n",
    "result2 = str1.isalnum()\n",
    "print(result2)"
   ]
  },
  {
   "cell_type": "markdown",
   "metadata": {},
   "source": [
    "### QUES4 Input two numbers and print its square and cube. (Take input from the user)"
   ]
  },
  {
   "cell_type": "code",
   "execution_count": 55,
   "metadata": {},
   "outputs": [
    {
     "name": "stdout",
     "output_type": "stream",
     "text": [
      "square of a:4 square of b:9\n",
      "cube of a:8 cube of b:12\n"
     ]
    }
   ],
   "source": [
    "a = int(input(\"a :\"))\n",
    "b = int(input(\"b :\"))\n",
    "sq = a*a\n",
    "sq1 = b*b\n",
    "cub = a*sq\n",
    "cub1 = b+sq1\n",
    "print(\"square of a:\"+str(sq)+\" square of b:\"+str(sq1))\n",
    "print(\"cube of a:\"+str(cub)+\" cube of b:\"+str(cub1))"
   ]
  },
  {
   "cell_type": "markdown",
   "metadata": {},
   "source": [
    "### QUES 5 Input two numbers and print their Addition, Subtraction, Multiplication, and Division. (Take input from the user)"
   ]
  },
  {
   "cell_type": "code",
   "execution_count": 56,
   "metadata": {},
   "outputs": [
    {
     "name": "stdout",
     "output_type": "stream",
     "text": [
      "Addition: 15\n",
      "Subtraction: 5\n",
      "multiplication: 50\n",
      "division: 2.0\n"
     ]
    }
   ],
   "source": [
    "x = int(input(\"x :\"))\n",
    "y = int(input(\"y :\"))\n",
    "add = x+y\n",
    "sub = x-y\n",
    "mul = x*y\n",
    "div = x/y\n",
    "\n",
    "print(\"Addition:\",add)\n",
    "print(\"Subtraction:\",sub)\n",
    "print(\"multiplication:\",mul)\n",
    "print(\"division:\",div)"
   ]
  },
  {
   "cell_type": "markdown",
   "metadata": {},
   "source": [
    "### QUES 6 Perform the following operation (Use multiple assignments to assign variable to value)"
   ]
  },
  {
   "cell_type": "code",
   "execution_count": 60,
   "metadata": {},
   "outputs": [
    {
     "name": "stdout",
     "output_type": "stream",
     "text": [
      "0.040000000000000036\n",
      "9.2416\n",
      "56.208\n",
      "-0.004800000000000004\n",
      "0.091616\n",
      "2882.39088\n"
     ]
    }
   ],
   "source": [
    "p =2\n",
    "b= 3\n",
    "d =2\n",
    "g=1\n",
    "h=4\n",
    "k =1\n",
    "n=3\n",
    "r=6 \n",
    "m= 5\n",
    "v =4\n",
    "a = p*(1+(r/100)/n)-p\n",
    "c=(a+b)*(a+b) \n",
    "l = (c+d)*(g+h)\n",
    "x=((k-4)*(a*4))/100 \n",
    "s=((4*a+c)-2*a*b)/100\n",
    "t=((v+s)+(l-m)*l) \n",
    "print(a)\n",
    "print(c)\n",
    "print(l)\n",
    "print(x)\n",
    "print(s)\n",
    "print(t)"
   ]
  },
  {
   "cell_type": "markdown",
   "metadata": {},
   "source": [
    "### QUES 7 Calculate the area of the Triangle. "
   ]
  },
  {
   "cell_type": "code",
   "execution_count": 61,
   "metadata": {},
   "outputs": [
    {
     "name": "stdout",
     "output_type": "stream",
     "text": [
      "Area of triangle:  12.0\n"
     ]
    }
   ],
   "source": [
    "a = 4\n",
    "b = 6\n",
    "area = 1/2 *b*a\n",
    "print(\"Area of triangle: \",area)"
   ]
  },
  {
   "cell_type": "markdown",
   "metadata": {},
   "source": [
    "### QUES 8 Input a Rupees and prints its value converted into Dollar. "
   ]
  },
  {
   "cell_type": "code",
   "execution_count": 62,
   "metadata": {},
   "outputs": [
    {
     "name": "stdout",
     "output_type": "stream",
     "text": [
      "Converted ruppes in dollar: 2000\n"
     ]
    }
   ],
   "source": [
    "rup = int(input(\"Enter the ruppes: \"))\n",
    "dol = 80*rup\n",
    "print(\"Converted ruppes in dollar:\",dol)"
   ]
  }
 ],
 "metadata": {
  "kernelspec": {
   "display_name": "Python 3",
   "language": "python",
   "name": "python3"
  },
  "language_info": {
   "codemirror_mode": {
    "name": "ipython",
    "version": 3
   },
   "file_extension": ".py",
   "mimetype": "text/x-python",
   "name": "python",
   "nbconvert_exporter": "python",
   "pygments_lexer": "ipython3",
   "version": "3.10.5"
  },
  "orig_nbformat": 4
 },
 "nbformat": 4,
 "nbformat_minor": 2
}
