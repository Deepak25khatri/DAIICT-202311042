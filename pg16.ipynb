{
 "cells": [
  {
   "cell_type": "markdown",
   "metadata": {},
   "source": [
    "# classes"
   ]
  },
  {
   "cell_type": "markdown",
   "metadata": {},
   "source": [
    "# oct 4"
   ]
  },
  {
   "cell_type": "code",
   "execution_count": 23,
   "metadata": {},
   "outputs": [
    {
     "name": "stdout",
     "output_type": "stream",
     "text": [
      "Lamborgini Urus 2022\n",
      "this car 2 miles on it\n"
     ]
    }
   ],
   "source": [
    "class car:\n",
    "    def __init__(self,make,model,year):\n",
    "        self.make = make\n",
    "        self.model = model\n",
    "        self.year = year\n",
    "        self.odometer = 30\n",
    "    def get_descriptive(self):\n",
    "        long_name = (f\"{self.make} {self.model} {self.year}\")\n",
    "        return long_name.title()\n",
    "    def read_odometer(self):\n",
    "        print(f\"this car {self.odometer} miles on it\")\n",
    "    def update_odometer(self,mileage):\n",
    "        self.odometer = mileage\n",
    "        if mileage>=self.odometer:\n",
    "            self.odometer = mileage\n",
    "        else:\n",
    "            print(\"You cant rollback\")\n",
    "    def increment_odometer(self,miles):\n",
    "        self.odometer+=miles\n",
    "my_new_car = car(\"Lamborgini\",\"URUS\",2022)\n",
    "print(my_new_car.get_descriptive())\n",
    "my_new_car.update_odometer(2)\n",
    "my_new_car.read_odometer()\n",
    "    "
   ]
  },
  {
   "cell_type": "code",
   "execution_count": 25,
   "metadata": {},
   "outputs": [
    {
     "name": "stdout",
     "output_type": "stream",
     "text": [
      "Mahindra Thar 2021\n",
      "this car 15000 miles on it\n",
      "this car 15550 miles on it\n"
     ]
    }
   ],
   "source": [
    "my_used_car = car(\"mahindra\",\"Thar\",2021)\n",
    "print(my_used_car.get_descriptive())\n",
    "my_used_car.update_odometer(15000)\n",
    "my_used_car.read_odometer()\n",
    "my_used_car.increment_odometer(550)\n",
    "my_used_car.read_odometer()"
   ]
  },
  {
   "cell_type": "code",
   "execution_count": 28,
   "metadata": {},
   "outputs": [
    {
     "name": "stdout",
     "output_type": "stream",
     "text": [
      "Tesla Model X 2022\n",
      "this car has 200 kwh\n"
     ]
    }
   ],
   "source": [
    "class ElectricCar(car):\n",
    "    def __init__(self, make, model, year):\n",
    "        super().__init__(make, model, year)\n",
    "        self.battery_size = 200\n",
    "    def describe_battery(self):\n",
    "        print(f\"this car has {self.battery_size} kwh\")\n",
    "my_tesla = ElectricCar(\"Tesla\",\"model X\",2022)\n",
    "print(my_tesla.get_descriptive())\n",
    "my_tesla.describe_battery()"
   ]
  }
 ],
 "metadata": {
  "kernelspec": {
   "display_name": "Python 3",
   "language": "python",
   "name": "python3"
  },
  "language_info": {
   "codemirror_mode": {
    "name": "ipython",
    "version": 3
   },
   "file_extension": ".py",
   "mimetype": "text/x-python",
   "name": "python",
   "nbconvert_exporter": "python",
   "pygments_lexer": "ipython3",
   "version": "3.10.5"
  },
  "orig_nbformat": 4
 },
 "nbformat": 4,
 "nbformat_minor": 2
}
